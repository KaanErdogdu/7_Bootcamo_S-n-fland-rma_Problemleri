{
  "nbformat": 4,
  "nbformat_minor": 0,
  "metadata": {
    "colab": {
      "name": "Proje_3.ipynb",
      "provenance": [],
      "collapsed_sections": [],
      "authorship_tag": "ABX9TyMogjIFivcatcEeei+08o+i",
      "include_colab_link": true
    },
    "kernelspec": {
      "name": "python3",
      "display_name": "Python 3"
    }
  },
  "cells": [
    {
      "cell_type": "markdown",
      "metadata": {
        "id": "view-in-github",
        "colab_type": "text"
      },
      "source": [
        "<a href=\"https://colab.research.google.com/github/KaanErdogdu/7_Bootcamo_Siniflandirma_Problemleri/blob/master/Proje_3.ipynb\" target=\"_parent\"><img src=\"https://colab.research.google.com/assets/colab-badge.svg\" alt=\"Open In Colab\"/></a>"
      ]
    },
    {
      "cell_type": "code",
      "metadata": {
        "id": "wHfwYXj1ToPq",
        "colab_type": "code",
        "colab": {}
      },
      "source": [
        "import matplotlib.pyplot as plt\n",
        "import seaborn as sns\n",
        "import numpy as np\n",
        "import pandas as pd\n",
        "import scipy.stats as stats\n",
        "from scipy.stats.mstats import winsorize\n",
        "from sqlalchemy import create_engine\n",
        "from sklearn.model_selection import train_test_split\n",
        "from sklearn.linear_model import LogisticRegression\n",
        "import warnings\n",
        "import datetime as dt\n",
        "import re\n",
        "from sklearn import datasets\n",
        "iris = datasets.load_iris()\n",
        "import warnings\n",
        "warnings.filterwarnings('ignore')"
      ],
      "execution_count": 112,
      "outputs": []
    },
    {
      "cell_type": "code",
      "metadata": {
        "id": "uCE8ETanT7iZ",
        "colab_type": "code",
        "colab": {}
      },
      "source": [
        "projelogi=pd.read_csv(\"Logistic Reg Teknosa.csv\")"
      ],
      "execution_count": 113,
      "outputs": []
    },
    {
      "cell_type": "code",
      "metadata": {
        "id": "PQc0AfrnUwIR",
        "colab_type": "code",
        "colab": {
          "base_uri": "https://localhost:8080/",
          "height": 445
        },
        "outputId": "54118898-947f-46d6-dcab-24ae341f4003"
      },
      "source": [
        "projelogi.head()"
      ],
      "execution_count": 114,
      "outputs": [
        {
          "output_type": "execute_result",
          "data": {
            "text/html": [
              "<div>\n",
              "<style scoped>\n",
              "    .dataframe tbody tr th:only-of-type {\n",
              "        vertical-align: middle;\n",
              "    }\n",
              "\n",
              "    .dataframe tbody tr th {\n",
              "        vertical-align: top;\n",
              "    }\n",
              "\n",
              "    .dataframe thead th {\n",
              "        text-align: right;\n",
              "    }\n",
              "</style>\n",
              "<table border=\"1\" class=\"dataframe\">\n",
              "  <thead>\n",
              "    <tr style=\"text-align: right;\">\n",
              "      <th></th>\n",
              "      <th>Week (Mon-Sun)</th>\n",
              "      <th>Custom dimension 1</th>\n",
              "      <th>Sessions</th>\n",
              "      <th>Avg. pageviews per session</th>\n",
              "      <th>Avg. session length (sec)</th>\n",
              "      <th>Product Detail Views</th>\n",
              "      <th>Product List Clicks</th>\n",
              "      <th>Product Adds To Cart</th>\n",
              "      <th>Product Checkouts</th>\n",
              "      <th>Transactions</th>\n",
              "    </tr>\n",
              "  </thead>\n",
              "  <tbody>\n",
              "    <tr>\n",
              "      <th>0</th>\n",
              "      <td>2020|29</td>\n",
              "      <td>731C0F2E-DDC3-E811-90F9-00155D619647</td>\n",
              "      <td>189.0</td>\n",
              "      <td>4.89</td>\n",
              "      <td>311.0</td>\n",
              "      <td>1772.0</td>\n",
              "      <td>20.0</td>\n",
              "      <td>6.0</td>\n",
              "      <td>61.0</td>\n",
              "      <td>0.0</td>\n",
              "    </tr>\n",
              "    <tr>\n",
              "      <th>1</th>\n",
              "      <td>2020|30</td>\n",
              "      <td>4283B82C-20B2-EA11-80D0-00155D61134E</td>\n",
              "      <td>163.0</td>\n",
              "      <td>16.90</td>\n",
              "      <td>145.0</td>\n",
              "      <td>447.0</td>\n",
              "      <td>156.0</td>\n",
              "      <td>156.0</td>\n",
              "      <td>2067.0</td>\n",
              "      <td>14.0</td>\n",
              "    </tr>\n",
              "    <tr>\n",
              "      <th>2</th>\n",
              "      <td>2020|29</td>\n",
              "      <td>4A1E910F-F5B2-EA11-80D5-00155D7CD320</td>\n",
              "      <td>139.0</td>\n",
              "      <td>6.47</td>\n",
              "      <td>626.0</td>\n",
              "      <td>892.0</td>\n",
              "      <td>128.0</td>\n",
              "      <td>7.0</td>\n",
              "      <td>105.0</td>\n",
              "      <td>0.0</td>\n",
              "    </tr>\n",
              "    <tr>\n",
              "      <th>3</th>\n",
              "      <td>2020|29</td>\n",
              "      <td>4283B82C-20B2-EA11-80D0-00155D61134E</td>\n",
              "      <td>137.0</td>\n",
              "      <td>12.83</td>\n",
              "      <td>181.0</td>\n",
              "      <td>171.0</td>\n",
              "      <td>59.0</td>\n",
              "      <td>58.0</td>\n",
              "      <td>793.0</td>\n",
              "      <td>11.0</td>\n",
              "    </tr>\n",
              "    <tr>\n",
              "      <th>4</th>\n",
              "      <td>2020|28</td>\n",
              "      <td>73982672-3C90-E911-80CB-00155D61134E</td>\n",
              "      <td>121.0</td>\n",
              "      <td>5.83</td>\n",
              "      <td>684.0</td>\n",
              "      <td>33.0</td>\n",
              "      <td>5.0</td>\n",
              "      <td>0.0</td>\n",
              "      <td>0.0</td>\n",
              "      <td>0.0</td>\n",
              "    </tr>\n",
              "  </tbody>\n",
              "</table>\n",
              "</div>"
            ],
            "text/plain": [
              "  Week (Mon-Sun)  ... Transactions\n",
              "0        2020|29  ...          0.0\n",
              "1        2020|30  ...         14.0\n",
              "2        2020|29  ...          0.0\n",
              "3        2020|29  ...         11.0\n",
              "4        2020|28  ...          0.0\n",
              "\n",
              "[5 rows x 10 columns]"
            ]
          },
          "metadata": {
            "tags": []
          },
          "execution_count": 114
        }
      ]
    },
    {
      "cell_type": "code",
      "metadata": {
        "id": "2v2WzaryVhH4",
        "colab_type": "code",
        "colab": {}
      },
      "source": [
        "projelogi.columns = ['week', 'user_id', 'sessions', 'page_session', 'avg_session_duration','product_view','product_click','add_to_cart','product_checkout','transactions']"
      ],
      "execution_count": 115,
      "outputs": []
    },
    {
      "cell_type": "code",
      "metadata": {
        "id": "QF1YmPHOW59B",
        "colab_type": "code",
        "colab": {
          "base_uri": "https://localhost:8080/",
          "height": 312
        },
        "outputId": "ddc3cc5b-b315-4e80-b2ec-d83a5c3c1f9f"
      },
      "source": [
        "projelogi.info()"
      ],
      "execution_count": 116,
      "outputs": [
        {
          "output_type": "stream",
          "text": [
            "<class 'pandas.core.frame.DataFrame'>\n",
            "RangeIndex: 154763 entries, 0 to 154762\n",
            "Data columns (total 10 columns):\n",
            " #   Column                Non-Null Count   Dtype  \n",
            "---  ------                --------------   -----  \n",
            " 0   week                  154763 non-null  object \n",
            " 1   user_id               154759 non-null  object \n",
            " 2   sessions              154759 non-null  float64\n",
            " 3   page_session          154748 non-null  float64\n",
            " 4   avg_session_duration  154748 non-null  float64\n",
            " 5   product_view          154759 non-null  float64\n",
            " 6   product_click         154759 non-null  float64\n",
            " 7   add_to_cart           154759 non-null  float64\n",
            " 8   product_checkout      154752 non-null  float64\n",
            " 9   transactions          154752 non-null  float64\n",
            "dtypes: float64(8), object(2)\n",
            "memory usage: 11.8+ MB\n"
          ],
          "name": "stdout"
        }
      ]
    },
    {
      "cell_type": "code",
      "metadata": {
        "id": "RLgkVVZlXCS2",
        "colab_type": "code",
        "colab": {
          "base_uri": "https://localhost:8080/",
          "height": 208
        },
        "outputId": "fc219686-2f6e-4e59-f5e1-0186285601d0"
      },
      "source": [
        "projelogi.nunique()"
      ],
      "execution_count": 117,
      "outputs": [
        {
          "output_type": "execute_result",
          "data": {
            "text/plain": [
              "week                        5\n",
              "user_id                 94960\n",
              "sessions                  105\n",
              "page_session             1879\n",
              "avg_session_duration     3321\n",
              "product_view              394\n",
              "product_click             123\n",
              "add_to_cart               113\n",
              "product_checkout          332\n",
              "transactions               34\n",
              "dtype: int64"
            ]
          },
          "metadata": {
            "tags": []
          },
          "execution_count": 117
        }
      ]
    },
    {
      "cell_type": "code",
      "metadata": {
        "id": "QFD-q41uat4o",
        "colab_type": "code",
        "colab": {
          "base_uri": "https://localhost:8080/",
          "height": 225
        },
        "outputId": "94eb0a21-e2f5-4f72-f620-fc725b98382f"
      },
      "source": [
        "projelogi['week_j'] = projelogi['week'].str.split('|') \n",
        "projelogi['week_j']"
      ],
      "execution_count": 118,
      "outputs": [
        {
          "output_type": "execute_result",
          "data": {
            "text/plain": [
              "0         [2020, 29]\n",
              "1         [2020, 30]\n",
              "2         [2020, 29]\n",
              "3         [2020, 29]\n",
              "4         [2020, 28]\n",
              "             ...    \n",
              "154758    [2020, 29]\n",
              "154759    [2020, 29]\n",
              "154760    [2020, 30]\n",
              "154761    [2020, 31]\n",
              "154762    [2020, 31]\n",
              "Name: week_j, Length: 154763, dtype: object"
            ]
          },
          "metadata": {
            "tags": []
          },
          "execution_count": 118
        }
      ]
    },
    {
      "cell_type": "code",
      "metadata": {
        "id": "XqeWbVKdXjJ3",
        "colab_type": "code",
        "colab": {
          "base_uri": "https://localhost:8080/",
          "height": 895
        },
        "outputId": "edfdd4e3-221a-434c-ccb9-c4a3832195c8"
      },
      "source": [
        "projelogi_1 = projelogi.groupby([\"week\",\"user_id\"]).agg({\"sessions\":\"sum\",\n",
        "                                                            \"page_session\":\"mean\",\n",
        "                                                            \"avg_session_duration\":\"mean\",\n",
        "                                                            \"product_view\":\"sum\",\n",
        "                                                            \"product_click\":\"sum\",\n",
        "                                                            \"add_to_cart\":\"sum\",\n",
        "                                                            \"product_checkout\":\"sum\",\n",
        "                                                            \"transactions\":\"sum\"}).reset_index()\n",
        "\n",
        "projelogi_1.head(10)"
      ],
      "execution_count": 119,
      "outputs": [
        {
          "output_type": "execute_result",
          "data": {
            "text/html": [
              "<div>\n",
              "<style scoped>\n",
              "    .dataframe tbody tr th:only-of-type {\n",
              "        vertical-align: middle;\n",
              "    }\n",
              "\n",
              "    .dataframe tbody tr th {\n",
              "        vertical-align: top;\n",
              "    }\n",
              "\n",
              "    .dataframe thead th {\n",
              "        text-align: right;\n",
              "    }\n",
              "</style>\n",
              "<table border=\"1\" class=\"dataframe\">\n",
              "  <thead>\n",
              "    <tr style=\"text-align: right;\">\n",
              "      <th></th>\n",
              "      <th>week</th>\n",
              "      <th>user_id</th>\n",
              "      <th>sessions</th>\n",
              "      <th>page_session</th>\n",
              "      <th>avg_session_duration</th>\n",
              "      <th>product_view</th>\n",
              "      <th>product_click</th>\n",
              "      <th>add_to_cart</th>\n",
              "      <th>product_checkout</th>\n",
              "      <th>transactions</th>\n",
              "    </tr>\n",
              "  </thead>\n",
              "  <tbody>\n",
              "    <tr>\n",
              "      <th>0</th>\n",
              "      <td>2020|27</td>\n",
              "      <td>0000279A-87C8-E811-90F9-00155D619647</td>\n",
              "      <td>3.0</td>\n",
              "      <td>1.00</td>\n",
              "      <td>0.0</td>\n",
              "      <td>0.0</td>\n",
              "      <td>0.0</td>\n",
              "      <td>0.0</td>\n",
              "      <td>0.0</td>\n",
              "      <td>0.0</td>\n",
              "    </tr>\n",
              "    <tr>\n",
              "      <th>1</th>\n",
              "      <td>2020|27</td>\n",
              "      <td>000219E1-DBC3-E811-90F9-00155D619647</td>\n",
              "      <td>4.0</td>\n",
              "      <td>4.50</td>\n",
              "      <td>206.0</td>\n",
              "      <td>21.0</td>\n",
              "      <td>0.0</td>\n",
              "      <td>0.0</td>\n",
              "      <td>0.0</td>\n",
              "      <td>0.0</td>\n",
              "    </tr>\n",
              "    <tr>\n",
              "      <th>2</th>\n",
              "      <td>2020|27</td>\n",
              "      <td>00039966-101C-E911-80C7-00155D619677</td>\n",
              "      <td>1.0</td>\n",
              "      <td>4.00</td>\n",
              "      <td>26.0</td>\n",
              "      <td>0.0</td>\n",
              "      <td>0.0</td>\n",
              "      <td>0.0</td>\n",
              "      <td>3.0</td>\n",
              "      <td>0.0</td>\n",
              "    </tr>\n",
              "    <tr>\n",
              "      <th>3</th>\n",
              "      <td>2020|27</td>\n",
              "      <td>000906F6-40B5-EA11-80D0-00155D61134E</td>\n",
              "      <td>8.0</td>\n",
              "      <td>2.00</td>\n",
              "      <td>25.0</td>\n",
              "      <td>41.0</td>\n",
              "      <td>0.0</td>\n",
              "      <td>0.0</td>\n",
              "      <td>0.0</td>\n",
              "      <td>0.0</td>\n",
              "    </tr>\n",
              "    <tr>\n",
              "      <th>4</th>\n",
              "      <td>2020|27</td>\n",
              "      <td>0009F07C-A37B-E911-80CA-00155D7CD320</td>\n",
              "      <td>4.0</td>\n",
              "      <td>1.75</td>\n",
              "      <td>54.0</td>\n",
              "      <td>27.0</td>\n",
              "      <td>0.0</td>\n",
              "      <td>0.0</td>\n",
              "      <td>0.0</td>\n",
              "      <td>0.0</td>\n",
              "    </tr>\n",
              "    <tr>\n",
              "      <th>5</th>\n",
              "      <td>2020|27</td>\n",
              "      <td>000B0994-B7B8-EA11-80D0-00155D61134E</td>\n",
              "      <td>2.0</td>\n",
              "      <td>1.00</td>\n",
              "      <td>0.0</td>\n",
              "      <td>6.0</td>\n",
              "      <td>0.0</td>\n",
              "      <td>0.0</td>\n",
              "      <td>0.0</td>\n",
              "      <td>0.0</td>\n",
              "    </tr>\n",
              "    <tr>\n",
              "      <th>6</th>\n",
              "      <td>2020|27</td>\n",
              "      <td>000D22CD-6507-E911-80C7-00155D619677</td>\n",
              "      <td>2.0</td>\n",
              "      <td>16.50</td>\n",
              "      <td>846.0</td>\n",
              "      <td>13.0</td>\n",
              "      <td>0.0</td>\n",
              "      <td>1.0</td>\n",
              "      <td>15.0</td>\n",
              "      <td>1.0</td>\n",
              "    </tr>\n",
              "    <tr>\n",
              "      <th>7</th>\n",
              "      <td>2020|27</td>\n",
              "      <td>000DD9E4-BABB-EA11-80D0-00155D61134E</td>\n",
              "      <td>10.0</td>\n",
              "      <td>5.50</td>\n",
              "      <td>191.0</td>\n",
              "      <td>33.0</td>\n",
              "      <td>0.0</td>\n",
              "      <td>1.0</td>\n",
              "      <td>9.0</td>\n",
              "      <td>1.0</td>\n",
              "    </tr>\n",
              "    <tr>\n",
              "      <th>8</th>\n",
              "      <td>2020|27</td>\n",
              "      <td>000E323F-A797-EA11-80D0-00155D61134E</td>\n",
              "      <td>1.0</td>\n",
              "      <td>1.00</td>\n",
              "      <td>0.0</td>\n",
              "      <td>2.0</td>\n",
              "      <td>0.0</td>\n",
              "      <td>0.0</td>\n",
              "      <td>0.0</td>\n",
              "      <td>0.0</td>\n",
              "    </tr>\n",
              "    <tr>\n",
              "      <th>9</th>\n",
              "      <td>2020|27</td>\n",
              "      <td>001318CF-A5C5-E811-90F9-00155D619647</td>\n",
              "      <td>2.0</td>\n",
              "      <td>5.00</td>\n",
              "      <td>152.0</td>\n",
              "      <td>2.0</td>\n",
              "      <td>1.0</td>\n",
              "      <td>0.0</td>\n",
              "      <td>0.0</td>\n",
              "      <td>0.0</td>\n",
              "    </tr>\n",
              "  </tbody>\n",
              "</table>\n",
              "</div>"
            ],
            "text/plain": [
              "      week  ... transactions\n",
              "0  2020|27  ...          0.0\n",
              "1  2020|27  ...          0.0\n",
              "2  2020|27  ...          0.0\n",
              "3  2020|27  ...          0.0\n",
              "4  2020|27  ...          0.0\n",
              "5  2020|27  ...          0.0\n",
              "6  2020|27  ...          1.0\n",
              "7  2020|27  ...          1.0\n",
              "8  2020|27  ...          0.0\n",
              "9  2020|27  ...          0.0\n",
              "\n",
              "[10 rows x 10 columns]"
            ]
          },
          "metadata": {
            "tags": []
          },
          "execution_count": 119
        }
      ]
    },
    {
      "cell_type": "code",
      "metadata": {
        "id": "8aL1-FBkakAC",
        "colab_type": "code",
        "colab": {
          "base_uri": "https://localhost:8080/",
          "height": 312
        },
        "outputId": "720b041d-2c09-457e-f305-11e2ada19a22"
      },
      "source": [
        "projelogi_1.info()"
      ],
      "execution_count": 120,
      "outputs": [
        {
          "output_type": "stream",
          "text": [
            "<class 'pandas.core.frame.DataFrame'>\n",
            "RangeIndex: 154759 entries, 0 to 154758\n",
            "Data columns (total 10 columns):\n",
            " #   Column                Non-Null Count   Dtype  \n",
            "---  ------                --------------   -----  \n",
            " 0   week                  154759 non-null  object \n",
            " 1   user_id               154759 non-null  object \n",
            " 2   sessions              154759 non-null  float64\n",
            " 3   page_session          154744 non-null  float64\n",
            " 4   avg_session_duration  154744 non-null  float64\n",
            " 5   product_view          154759 non-null  float64\n",
            " 6   product_click         154759 non-null  float64\n",
            " 7   add_to_cart           154759 non-null  float64\n",
            " 8   product_checkout      154759 non-null  float64\n",
            " 9   transactions          154759 non-null  float64\n",
            "dtypes: float64(8), object(2)\n",
            "memory usage: 11.8+ MB\n"
          ],
          "name": "stdout"
        }
      ]
    },
    {
      "cell_type": "code",
      "metadata": {
        "id": "eGQ4muTLe2W6",
        "colab_type": "code",
        "colab": {
          "base_uri": "https://localhost:8080/",
          "height": 208
        },
        "outputId": "20340395-66e2-43aa-a094-78d68545b849"
      },
      "source": [
        "projelogi_1.nunique()"
      ],
      "execution_count": 121,
      "outputs": [
        {
          "output_type": "execute_result",
          "data": {
            "text/plain": [
              "week                        5\n",
              "user_id                 94960\n",
              "sessions                  105\n",
              "page_session             1879\n",
              "avg_session_duration     3321\n",
              "product_view              394\n",
              "product_click             123\n",
              "add_to_cart               113\n",
              "product_checkout          332\n",
              "transactions               34\n",
              "dtype: int64"
            ]
          },
          "metadata": {
            "tags": []
          },
          "execution_count": 121
        }
      ]
    },
    {
      "cell_type": "code",
      "metadata": {
        "id": "ocYlAqO-e8nx",
        "colab_type": "code",
        "colab": {}
      },
      "source": [
        "def func(x):\n",
        "  if x >= 1:\n",
        "    return 1\n",
        "  elif x==0:\n",
        "    return 0"
      ],
      "execution_count": 122,
      "outputs": []
    },
    {
      "cell_type": "code",
      "metadata": {
        "id": "QhNspH8tfv7H",
        "colab_type": "code",
        "colab": {}
      },
      "source": [
        "projelogi_1[\"transactions_dummy\"]= projelogi_1[\"transactions\"].apply(func)"
      ],
      "execution_count": 123,
      "outputs": []
    },
    {
      "cell_type": "code",
      "metadata": {
        "id": "U7RhXCaKh_2h",
        "colab_type": "code",
        "colab": {
          "base_uri": "https://localhost:8080/",
          "height": 482
        },
        "outputId": "f469a276-b865-4d69-daab-f6a7dd580d6f"
      },
      "source": [
        "projelogi_1.head()"
      ],
      "execution_count": 124,
      "outputs": [
        {
          "output_type": "execute_result",
          "data": {
            "text/html": [
              "<div>\n",
              "<style scoped>\n",
              "    .dataframe tbody tr th:only-of-type {\n",
              "        vertical-align: middle;\n",
              "    }\n",
              "\n",
              "    .dataframe tbody tr th {\n",
              "        vertical-align: top;\n",
              "    }\n",
              "\n",
              "    .dataframe thead th {\n",
              "        text-align: right;\n",
              "    }\n",
              "</style>\n",
              "<table border=\"1\" class=\"dataframe\">\n",
              "  <thead>\n",
              "    <tr style=\"text-align: right;\">\n",
              "      <th></th>\n",
              "      <th>week</th>\n",
              "      <th>user_id</th>\n",
              "      <th>sessions</th>\n",
              "      <th>page_session</th>\n",
              "      <th>avg_session_duration</th>\n",
              "      <th>product_view</th>\n",
              "      <th>product_click</th>\n",
              "      <th>add_to_cart</th>\n",
              "      <th>product_checkout</th>\n",
              "      <th>transactions</th>\n",
              "      <th>transactions_dummy</th>\n",
              "    </tr>\n",
              "  </thead>\n",
              "  <tbody>\n",
              "    <tr>\n",
              "      <th>0</th>\n",
              "      <td>2020|27</td>\n",
              "      <td>0000279A-87C8-E811-90F9-00155D619647</td>\n",
              "      <td>3.0</td>\n",
              "      <td>1.00</td>\n",
              "      <td>0.0</td>\n",
              "      <td>0.0</td>\n",
              "      <td>0.0</td>\n",
              "      <td>0.0</td>\n",
              "      <td>0.0</td>\n",
              "      <td>0.0</td>\n",
              "      <td>0</td>\n",
              "    </tr>\n",
              "    <tr>\n",
              "      <th>1</th>\n",
              "      <td>2020|27</td>\n",
              "      <td>000219E1-DBC3-E811-90F9-00155D619647</td>\n",
              "      <td>4.0</td>\n",
              "      <td>4.50</td>\n",
              "      <td>206.0</td>\n",
              "      <td>21.0</td>\n",
              "      <td>0.0</td>\n",
              "      <td>0.0</td>\n",
              "      <td>0.0</td>\n",
              "      <td>0.0</td>\n",
              "      <td>0</td>\n",
              "    </tr>\n",
              "    <tr>\n",
              "      <th>2</th>\n",
              "      <td>2020|27</td>\n",
              "      <td>00039966-101C-E911-80C7-00155D619677</td>\n",
              "      <td>1.0</td>\n",
              "      <td>4.00</td>\n",
              "      <td>26.0</td>\n",
              "      <td>0.0</td>\n",
              "      <td>0.0</td>\n",
              "      <td>0.0</td>\n",
              "      <td>3.0</td>\n",
              "      <td>0.0</td>\n",
              "      <td>0</td>\n",
              "    </tr>\n",
              "    <tr>\n",
              "      <th>3</th>\n",
              "      <td>2020|27</td>\n",
              "      <td>000906F6-40B5-EA11-80D0-00155D61134E</td>\n",
              "      <td>8.0</td>\n",
              "      <td>2.00</td>\n",
              "      <td>25.0</td>\n",
              "      <td>41.0</td>\n",
              "      <td>0.0</td>\n",
              "      <td>0.0</td>\n",
              "      <td>0.0</td>\n",
              "      <td>0.0</td>\n",
              "      <td>0</td>\n",
              "    </tr>\n",
              "    <tr>\n",
              "      <th>4</th>\n",
              "      <td>2020|27</td>\n",
              "      <td>0009F07C-A37B-E911-80CA-00155D7CD320</td>\n",
              "      <td>4.0</td>\n",
              "      <td>1.75</td>\n",
              "      <td>54.0</td>\n",
              "      <td>27.0</td>\n",
              "      <td>0.0</td>\n",
              "      <td>0.0</td>\n",
              "      <td>0.0</td>\n",
              "      <td>0.0</td>\n",
              "      <td>0</td>\n",
              "    </tr>\n",
              "  </tbody>\n",
              "</table>\n",
              "</div>"
            ],
            "text/plain": [
              "      week  ... transactions_dummy\n",
              "0  2020|27  ...                  0\n",
              "1  2020|27  ...                  0\n",
              "2  2020|27  ...                  0\n",
              "3  2020|27  ...                  0\n",
              "4  2020|27  ...                  0\n",
              "\n",
              "[5 rows x 11 columns]"
            ]
          },
          "metadata": {
            "tags": []
          },
          "execution_count": 124
        }
      ]
    },
    {
      "cell_type": "code",
      "metadata": {
        "id": "-HmURYRIiL5w",
        "colab_type": "code",
        "colab": {
          "base_uri": "https://localhost:8080/",
          "height": 260
        },
        "outputId": "529341a4-0088-42ec-be09-67c1fc07c0a5"
      },
      "source": [
        "X = projelogi_1[['sessions', 'page_session', 'avg_session_duration','product_view','product_click','add_to_cart','product_checkout']]\n",
        "y = projelogi_1.transactions\n",
        "print(X[:5])\n",
        "print(y[:5])"
      ],
      "execution_count": 125,
      "outputs": [
        {
          "output_type": "stream",
          "text": [
            "   sessions  page_session  ...  add_to_cart  product_checkout\n",
            "0       3.0          1.00  ...          0.0               0.0\n",
            "1       4.0          4.50  ...          0.0               0.0\n",
            "2       1.0          4.00  ...          0.0               3.0\n",
            "3       8.0          2.00  ...          0.0               0.0\n",
            "4       4.0          1.75  ...          0.0               0.0\n",
            "\n",
            "[5 rows x 7 columns]\n",
            "0    0.0\n",
            "1    0.0\n",
            "2    0.0\n",
            "3    0.0\n",
            "4    0.0\n",
            "Name: transactions, dtype: float64\n"
          ],
          "name": "stdout"
        }
      ]
    },
    {
      "cell_type": "code",
      "metadata": {
        "id": "wu3dJ02ojxqU",
        "colab_type": "code",
        "colab": {
          "base_uri": "https://localhost:8080/",
          "height": 225
        },
        "outputId": "536009f5-3375-414b-a174-98deeeda4733"
      },
      "source": [
        "X = projelogi_1[['sessions','product_click','add_to_cart','product_checkout']]\n",
        "y = projelogi_1.transactions_dummy\n",
        "print(X[:5])\n",
        "print(y[:5])"
      ],
      "execution_count": 135,
      "outputs": [
        {
          "output_type": "stream",
          "text": [
            "   sessions  product_click  add_to_cart  product_checkout\n",
            "0       3.0            0.0          0.0               0.0\n",
            "1       4.0            0.0          0.0               0.0\n",
            "2       1.0            0.0          0.0               3.0\n",
            "3       8.0            0.0          0.0               0.0\n",
            "4       4.0            0.0          0.0               0.0\n",
            "0    0\n",
            "1    0\n",
            "2    0\n",
            "3    0\n",
            "4    0\n",
            "Name: transactions_dummy, dtype: int64\n"
          ],
          "name": "stdout"
        }
      ]
    },
    {
      "cell_type": "code",
      "metadata": {
        "id": "1BVhhHAojShm",
        "colab_type": "code",
        "colab": {}
      },
      "source": [
        "from sklearn.linear_model import LogisticRegression\n",
        "log_reg = LogisticRegression()"
      ],
      "execution_count": 136,
      "outputs": []
    },
    {
      "cell_type": "code",
      "metadata": {
        "id": "Gw59AFRQjUV4",
        "colab_type": "code",
        "colab": {}
      },
      "source": [
        "from sklearn.model_selection import train_test_split\n",
        "X_eğitim, X_test, y_eğitim, y_test =  train_test_split(X, y, test_size=0.20, random_state=111)"
      ],
      "execution_count": 137,
      "outputs": []
    },
    {
      "cell_type": "code",
      "metadata": {
        "id": "1oeU-P3CjWeQ",
        "colab_type": "code",
        "colab": {
          "base_uri": "https://localhost:8080/",
          "height": 104
        },
        "outputId": "c9731642-89f5-41b9-f61a-5aee9aa45565"
      },
      "source": [
        "log_reg.fit(X_eğitim, y_eğitim)"
      ],
      "execution_count": 138,
      "outputs": [
        {
          "output_type": "execute_result",
          "data": {
            "text/plain": [
              "LogisticRegression(C=1.0, class_weight=None, dual=False, fit_intercept=True,\n",
              "                   intercept_scaling=1, l1_ratio=None, max_iter=100,\n",
              "                   multi_class='auto', n_jobs=None, penalty='l2',\n",
              "                   random_state=None, solver='lbfgs', tol=0.0001, verbose=0,\n",
              "                   warm_start=False)"
            ]
          },
          "metadata": {
            "tags": []
          },
          "execution_count": 138
        }
      ]
    },
    {
      "cell_type": "code",
      "metadata": {
        "id": "vE51qgikjYht",
        "colab_type": "code",
        "colab": {
          "base_uri": "https://localhost:8080/",
          "height": 87
        },
        "outputId": "6210fd9a-3069-4089-c5b9-c97fd2d0ec1a"
      },
      "source": [
        "egitim_dogruluk = log_reg.score(X_eğitim, y_eğitim)\n",
        "test_dogruluk = log_reg.score(X_test, y_test)\n",
        "print('One-vs-rest', '-'*20, \n",
        "      'Modelin eğitim verisindeki doğruluğu : {:.2f}'.format(egitim_dogruluk), \n",
        "      'Modelin test verisindeki doğruluğu   : {:.2f}'.format(test_dogruluk), sep='\\n')"
      ],
      "execution_count": 139,
      "outputs": [
        {
          "output_type": "stream",
          "text": [
            "One-vs-rest\n",
            "--------------------\n",
            "Modelin eğitim verisindeki doğruluğu : 0.92\n",
            "Modelin test verisindeki doğruluğu   : 0.92\n"
          ],
          "name": "stdout"
        }
      ]
    },
    {
      "cell_type": "code",
      "metadata": {
        "id": "bv90hpPFjfhF",
        "colab_type": "code",
        "colab": {
          "base_uri": "https://localhost:8080/",
          "height": 263
        },
        "outputId": "f6feba9f-d02e-4a0b-f353-e3264e2caa53"
      },
      "source": [
        "C_değerleri = [0.001,0.01,0.1,1,10,100, 1000]\n",
        "dogruluk_df = pd.DataFrame(columns = ['C_Değeri','Doğruluk'])\n",
        "\n",
        "dogruluk_değerleri = pd.DataFrame(columns=['C Değeri', 'Eğitim Doğruluğu', 'Test Doğruluğu'])\n",
        "\n",
        "for c in C_değerleri:\n",
        "    \n",
        "    # Apply logistic regression model to training data\n",
        "    lr = LogisticRegression(penalty = 'l2', C = c, random_state = 0)\n",
        "    lr.fit(X_eğitim,y_eğitim)\n",
        "    dogruluk_değerleri = dogruluk_değerleri.append({'C Değeri': c,\n",
        "                                                    'Eğitim Doğruluğu' : lr.score(X_eğitim, y_eğitim),\n",
        "                                                    'Test Doğruluğu': lr.score(X_test, y_test)\n",
        "                                                    }, ignore_index=True)\n",
        "display(dogruluk_değerleri)  "
      ],
      "execution_count": 140,
      "outputs": [
        {
          "output_type": "display_data",
          "data": {
            "text/html": [
              "<div>\n",
              "<style scoped>\n",
              "    .dataframe tbody tr th:only-of-type {\n",
              "        vertical-align: middle;\n",
              "    }\n",
              "\n",
              "    .dataframe tbody tr th {\n",
              "        vertical-align: top;\n",
              "    }\n",
              "\n",
              "    .dataframe thead th {\n",
              "        text-align: right;\n",
              "    }\n",
              "</style>\n",
              "<table border=\"1\" class=\"dataframe\">\n",
              "  <thead>\n",
              "    <tr style=\"text-align: right;\">\n",
              "      <th></th>\n",
              "      <th>C Değeri</th>\n",
              "      <th>Eğitim Doğruluğu</th>\n",
              "      <th>Test Doğruluğu</th>\n",
              "    </tr>\n",
              "  </thead>\n",
              "  <tbody>\n",
              "    <tr>\n",
              "      <th>0</th>\n",
              "      <td>0.001</td>\n",
              "      <td>0.915716</td>\n",
              "      <td>0.915999</td>\n",
              "    </tr>\n",
              "    <tr>\n",
              "      <th>1</th>\n",
              "      <td>0.010</td>\n",
              "      <td>0.915643</td>\n",
              "      <td>0.915999</td>\n",
              "    </tr>\n",
              "    <tr>\n",
              "      <th>2</th>\n",
              "      <td>0.100</td>\n",
              "      <td>0.915619</td>\n",
              "      <td>0.916031</td>\n",
              "    </tr>\n",
              "    <tr>\n",
              "      <th>3</th>\n",
              "      <td>1.000</td>\n",
              "      <td>0.915619</td>\n",
              "      <td>0.916031</td>\n",
              "    </tr>\n",
              "    <tr>\n",
              "      <th>4</th>\n",
              "      <td>10.000</td>\n",
              "      <td>0.915619</td>\n",
              "      <td>0.916031</td>\n",
              "    </tr>\n",
              "    <tr>\n",
              "      <th>5</th>\n",
              "      <td>100.000</td>\n",
              "      <td>0.915619</td>\n",
              "      <td>0.916031</td>\n",
              "    </tr>\n",
              "    <tr>\n",
              "      <th>6</th>\n",
              "      <td>1000.000</td>\n",
              "      <td>0.915619</td>\n",
              "      <td>0.916031</td>\n",
              "    </tr>\n",
              "  </tbody>\n",
              "</table>\n",
              "</div>"
            ],
            "text/plain": [
              "   C Değeri  Eğitim Doğruluğu  Test Doğruluğu\n",
              "0     0.001          0.915716        0.915999\n",
              "1     0.010          0.915643        0.915999\n",
              "2     0.100          0.915619        0.916031\n",
              "3     1.000          0.915619        0.916031\n",
              "4    10.000          0.915619        0.916031\n",
              "5   100.000          0.915619        0.916031\n",
              "6  1000.000          0.915619        0.916031"
            ]
          },
          "metadata": {
            "tags": []
          }
        }
      ]
    },
    {
      "cell_type": "code",
      "metadata": {
        "id": "vMNVASKimY0m",
        "colab_type": "code",
        "colab": {}
      },
      "source": [
        "X_eğitim, X_test, y_eğitim, y_test =  train_test_split(X, y,test_size=0.20, random_state=111)"
      ],
      "execution_count": 141,
      "outputs": []
    },
    {
      "cell_type": "code",
      "metadata": {
        "id": "zBk2e3d6kQEU",
        "colab_type": "code",
        "colab": {
          "base_uri": "https://localhost:8080/",
          "height": 104
        },
        "outputId": "34d32a05-2e55-43cf-b04b-08ec30fd016b"
      },
      "source": [
        "projelogi_1 = LogisticRegression()\n",
        "projelogi_1.fit(X_eğitim, y_eğitim)"
      ],
      "execution_count": 142,
      "outputs": [
        {
          "output_type": "execute_result",
          "data": {
            "text/plain": [
              "LogisticRegression(C=1.0, class_weight=None, dual=False, fit_intercept=True,\n",
              "                   intercept_scaling=1, l1_ratio=None, max_iter=100,\n",
              "                   multi_class='auto', n_jobs=None, penalty='l2',\n",
              "                   random_state=None, solver='lbfgs', tol=0.0001, verbose=0,\n",
              "                   warm_start=False)"
            ]
          },
          "metadata": {
            "tags": []
          },
          "execution_count": 142
        }
      ]
    },
    {
      "cell_type": "code",
      "metadata": {
        "id": "GxHXeZcilxUk",
        "colab_type": "code",
        "colab": {}
      },
      "source": [
        "tahmin_eğitim = projelogi_1.predict(X_eğitim)\n",
        "tahmin_test = projelogi_1.predict(X_test)"
      ],
      "execution_count": 143,
      "outputs": []
    },
    {
      "cell_type": "code",
      "metadata": {
        "id": "uIOmBm6qmjuh",
        "colab_type": "code",
        "colab": {}
      },
      "source": [
        "from sklearn.metrics import confusion_matrix\n",
        "hata_matrisi_eğitim = confusion_matrix(y_eğitim, tahmin_eğitim)\n",
        "hata_matrisi_test = confusion_matrix(y_test, tahmin_test)"
      ],
      "execution_count": 144,
      "outputs": []
    },
    {
      "cell_type": "code",
      "metadata": {
        "id": "bKRn5LqYmpXe",
        "colab_type": "code",
        "colab": {
          "base_uri": "https://localhost:8080/",
          "height": 156
        },
        "outputId": "b879bc74-d1ff-4cbe-fcb5-ef7e8908b07b"
      },
      "source": [
        "print(\"Hata Matrisi (Eğitim verileri)\", \"-\"*30, hata_matrisi_eğitim, sep=\"\\n\")\n",
        "print(\"Hata Matrisi (Test verileri)\", \"-\"*30, hata_matrisi_test, sep=\"\\n\")"
      ],
      "execution_count": 145,
      "outputs": [
        {
          "output_type": "stream",
          "text": [
            "Hata Matrisi (Eğitim verileri)\n",
            "------------------------------\n",
            "[[112290   1080]\n",
            " [  9367   1070]]\n",
            "Hata Matrisi (Test verileri)\n",
            "------------------------------\n",
            "[[28100   258]\n",
            " [ 2341   253]]\n"
          ],
          "name": "stdout"
        }
      ]
    },
    {
      "cell_type": "code",
      "metadata": {
        "id": "C8OB4qs9mrPq",
        "colab_type": "code",
        "colab": {
          "base_uri": "https://localhost:8080/",
          "height": 87
        },
        "outputId": "7acff31e-4cd5-454a-83bd-9ec2e79b5441"
      },
      "source": [
        "TN = hata_matrisi_test[0][0]\n",
        "TP = hata_matrisi_test[1][1]\n",
        "FP = hata_matrisi_test[0][1]\n",
        "FN = hata_matrisi_test[1][0]\n",
        "\n",
        "print(\"Doğru negatif sayısı   :\", TN)\n",
        "print(\"Doğru pozitif sayısı   :\", TP)\n",
        "print(\"Yanlış pozitif sayısı  :\", FP)\n",
        "print(\"Yanlış negatif sayısı  :\", FN)"
      ],
      "execution_count": 146,
      "outputs": [
        {
          "output_type": "stream",
          "text": [
            "Doğru negatif sayısı   : 28100\n",
            "Doğru pozitif sayısı   : 253\n",
            "Yanlış pozitif sayısı  : 258\n",
            "Yanlış negatif sayısı  : 2341\n"
          ],
          "name": "stdout"
        }
      ]
    },
    {
      "cell_type": "code",
      "metadata": {
        "id": "JP6U4bg3m7PI",
        "colab_type": "code",
        "colab": {
          "base_uri": "https://localhost:8080/",
          "height": 35
        },
        "outputId": "c65bf383-3688-4fde-c048-8cdc1ae7cbfd"
      },
      "source": [
        "from sklearn.metrics import accuracy_score\n",
        "\n",
        "print(\"Hesaplanan doğruluk değeri      : \",  (TN + TP)/(FN + FP + TN + TP))\n"
      ],
      "execution_count": 147,
      "outputs": [
        {
          "output_type": "stream",
          "text": [
            "Hesaplanan doğruluk değeri      :  0.9160312742310674\n"
          ],
          "name": "stdout"
        }
      ]
    },
    {
      "cell_type": "code",
      "metadata": {
        "id": "Im16dLDxnDgV",
        "colab_type": "code",
        "colab": {
          "base_uri": "https://localhost:8080/",
          "height": 35
        },
        "outputId": "757da0ef-f41a-4010-a420-a185fc771643"
      },
      "source": [
        "from sklearn.metrics import precision_score\n",
        "\n",
        "print(\"Hesaplanan doğruluk değeri      : \",  (TP)/(FP + TP))\n"
      ],
      "execution_count": 148,
      "outputs": [
        {
          "output_type": "stream",
          "text": [
            "Hesaplanan doğruluk değeri      :  0.49510763209393344\n"
          ],
          "name": "stdout"
        }
      ]
    },
    {
      "cell_type": "code",
      "metadata": {
        "id": "Zc-yhJKhnFax",
        "colab_type": "code",
        "colab": {
          "base_uri": "https://localhost:8080/",
          "height": 35
        },
        "outputId": "803c568a-5ef0-478c-e2d3-d081dfd71125"
      },
      "source": [
        "from sklearn.metrics import precision_score\n",
        "\n",
        "print(\"Hesaplanan doğruluk değeri      : \",  (TP)/(FP + TP))\n"
      ],
      "execution_count": 149,
      "outputs": [
        {
          "output_type": "stream",
          "text": [
            "Hesaplanan doğruluk değeri      :  0.49510763209393344\n"
          ],
          "name": "stdout"
        }
      ]
    },
    {
      "cell_type": "code",
      "metadata": {
        "id": "xKlRTpIYnIEH",
        "colab_type": "code",
        "colab": {
          "base_uri": "https://localhost:8080/",
          "height": 35
        },
        "outputId": "78941a87-1955-4fec-b77b-94d190ca68b5"
      },
      "source": [
        "from sklearn.metrics import recall_score\n",
        "\n",
        "print(\"Hesaplanan doğruluk değeri   : \",  (TP)/(TP + FN))\n"
      ],
      "execution_count": 150,
      "outputs": [
        {
          "output_type": "stream",
          "text": [
            "Hesaplanan doğruluk değeri   :  0.09753276792598303\n"
          ],
          "name": "stdout"
        }
      ]
    },
    {
      "cell_type": "code",
      "metadata": {
        "id": "6jTbnrtFnOee",
        "colab_type": "code",
        "colab": {
          "base_uri": "https://localhost:8080/",
          "height": 35
        },
        "outputId": "b32401e5-d4de-48b0-f8e5-eaa7771587cc"
      },
      "source": [
        "print(\"Hesaplanan özgünlük değeri   : \",  (TN)/(TN + FP))\n"
      ],
      "execution_count": 151,
      "outputs": [
        {
          "output_type": "stream",
          "text": [
            "Hesaplanan özgünlük değeri   :  0.9909020382255448\n"
          ],
          "name": "stdout"
        }
      ]
    },
    {
      "cell_type": "code",
      "metadata": {
        "id": "VZTHKyvenV-q",
        "colab_type": "code",
        "colab": {
          "base_uri": "https://localhost:8080/",
          "height": 52
        },
        "outputId": "03dc63e5-e6fb-4d5e-e29c-94e88de62226"
      },
      "source": [
        "from sklearn.metrics import f1_score\n",
        "\n",
        "hassasiyet_degeri = precision_score(y_test, tahmin_test)\n",
        "duyarlılık_değeri = recall_score(y_test, tahmin_test)\n",
        "\n",
        "\n",
        "print(\"Hesaplanan f1 skoru   : \",  2*((hassasiyet_degeri*duyarlılık_değeri)/(hassasiyet_degeri + duyarlılık_değeri)))\n",
        "print(\"f1_score() değeri     : \",  f1_score(y_test, tahmin_test))"
      ],
      "execution_count": 152,
      "outputs": [
        {
          "output_type": "stream",
          "text": [
            "Hesaplanan f1 skoru   :  0.16296296296296298\n",
            "f1_score() değeri     :  0.16296296296296298\n"
          ],
          "name": "stdout"
        }
      ]
    },
    {
      "cell_type": "code",
      "metadata": {
        "id": "979sJgAsnYvJ",
        "colab_type": "code",
        "colab": {
          "base_uri": "https://localhost:8080/",
          "height": 312
        },
        "outputId": "971d85aa-d417-4d5c-d728-0d8e4530b85f"
      },
      "source": [
        "from sklearn.metrics import classification_report, precision_recall_fscore_support\n",
        "\n",
        "print(classification_report(y_test,tahmin_test) )\n",
        "\n",
        "print(\"f1_score() değeri        : {:.2f}\".format(f1_score(y_test, tahmin_test)))\n",
        "print(\"recall_score() değeri    : {:.2f}\".format(recall_score(y_test, tahmin_test)))\n",
        "print(\"precision_score() değeri : {:.2f}\".format(precision_score(y_test, tahmin_test)))\n",
        "print('\\n')\n",
        "\n",
        "metrikler =  precision_recall_fscore_support(y_test, tahmin_test)\n",
        "print(\"Hassasiyet :\" , metrikler[0]) \n",
        "print(\"Duyarlılık :\" , metrikler[1]) \n",
        "print(\"F1 Skoru   :\" , metrikler[2]) "
      ],
      "execution_count": 153,
      "outputs": [
        {
          "output_type": "stream",
          "text": [
            "              precision    recall  f1-score   support\n",
            "\n",
            "           0       0.92      0.99      0.96     28358\n",
            "           1       0.50      0.10      0.16      2594\n",
            "\n",
            "    accuracy                           0.92     30952\n",
            "   macro avg       0.71      0.54      0.56     30952\n",
            "weighted avg       0.89      0.92      0.89     30952\n",
            "\n",
            "f1_score() değeri        : 0.16\n",
            "recall_score() değeri    : 0.10\n",
            "precision_score() değeri : 0.50\n",
            "\n",
            "\n",
            "Hassasiyet : [0.92309714 0.49510763]\n",
            "Duyarlılık : [0.99090204 0.09753277]\n",
            "F1 Skoru   : [0.95579857 0.16296296]\n"
          ],
          "name": "stdout"
        }
      ]
    },
    {
      "cell_type": "code",
      "metadata": {
        "id": "8mrRmPANookJ",
        "colab_type": "code",
        "colab": {}
      },
      "source": [
        "tahmin_test_ihtimal = projelogi_1.predict_proba(X_test)[:,1]\n"
      ],
      "execution_count": 156,
      "outputs": []
    },
    {
      "cell_type": "code",
      "metadata": {
        "id": "8zwFCp9jna7x",
        "colab_type": "code",
        "colab": {
          "base_uri": "https://localhost:8080/",
          "height": 295
        },
        "outputId": "3204bb89-0939-4fa1-93c6-8d87640e906a"
      },
      "source": [
        "from sklearn.metrics import roc_curve, roc_auc_score\n",
        "\n",
        "fpr, tpr, thresholds  = roc_curve(y_test, tahmin_test_ihtimal)\n",
        "\n",
        "import matplotlib.pyplot as plt\n",
        "# Plot ROC curve\n",
        "plt.plot([0, 1], [0, 1], 'k--')\n",
        "plt.plot(fpr, tpr)\n",
        "plt.xlabel('False Positive Rate')\n",
        "plt.ylabel('True Positive Rate')\n",
        "plt.title('ROC Curve')\n",
        "plt.show()"
      ],
      "execution_count": 157,
      "outputs": [
        {
          "output_type": "display_data",
          "data": {
            "image/png": "[encoded data removed]",
            "text/plain": [
              "<Figure size 432x288 with 1 Axes>"
            ]
          },
          "metadata": {
            "tags": [],
            "needs_background": "light"
          }
        }
      ]
    },
    {
      "cell_type": "code",
      "metadata": {
        "id": "ssS5bUcPnqim",
        "colab_type": "code",
        "colab": {
          "base_uri": "https://localhost:8080/",
          "height": 35
        },
        "outputId": "60490786-3528-4afa-cb6b-e7e78a3e7338"
      },
      "source": [
        "print('AUC Değeri : ', roc_auc_score(y_test, tahmin_test_ihtimal))\n"
      ],
      "execution_count": 158,
      "outputs": [
        {
          "output_type": "stream",
          "text": [
            "AUC Değeri :  0.8991228557898047\n"
          ],
          "name": "stdout"
        }
      ]
    },
    {
      "cell_type": "code",
      "metadata": {
        "id": "M369YvemoxOZ",
        "colab_type": "code",
        "colab": {
          "base_uri": "https://localhost:8080/",
          "height": 265
        },
        "outputId": "23aae8d7-8b05-47f1-910a-eb43bd6387e9"
      },
      "source": [
        "from sklearn.metrics import precision_recall_curve\n",
        "hassasiyet, duyarlılık, _ = precision_recall_curve(y_test, tahmin_test_ihtimal)\n",
        "\n",
        "plt.plot(duyarlılık, hassasiyet)\n",
        "plt.show()"
      ],
      "execution_count": 159,
      "outputs": [
        {
          "output_type": "display_data",
          "data": {
            "image/png": "[encoded data removed]",
            "text/plain": [
              "<Figure size 432x288 with 1 Axes>"
            ]
          },
          "metadata": {
            "tags": [],
            "needs_background": "light"
          }
        }
      ]
    },
    {
      "cell_type": "code",
      "metadata": {
        "id": "qP0RS2MJozIl",
        "colab_type": "code",
        "colab": {
          "base_uri": "https://localhost:8080/",
          "height": 52
        },
        "outputId": "b3e535c7-6150-44d9-dfdd-cee329f27a01"
      },
      "source": [
        "from sklearn.metrics import log_loss\n",
        "\n",
        "print(\"Logartimik Kayıp (log-loss) : \" , log_loss(y_test, tahmin_test_ihtimal))\n",
        "print(\"Hata Oranı                  : \" , 1- accuracy_score(y_test, tahmin_test))"
      ],
      "execution_count": 160,
      "outputs": [
        {
          "output_type": "stream",
          "text": [
            "Logartimik Kayıp (log-loss) :  0.24827052680103082\n",
            "Hata Oranı                  :  0.08396872576893255\n"
          ],
          "name": "stdout"
        }
      ]
    },
    {
      "cell_type": "code",
      "metadata": {
        "id": "Ijfsbb_to1a8",
        "colab_type": "code",
        "colab": {}
      },
      "source": [
        ""
      ],
      "execution_count": null,
      "outputs": []
    }
  ]
}